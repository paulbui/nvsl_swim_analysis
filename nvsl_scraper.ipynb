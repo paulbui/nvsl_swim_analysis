{
  "nbformat": 4,
  "nbformat_minor": 0,
  "metadata": {
    "colab": {
      "provenance": [],
      "authorship_tag": "ABX9TyMAIkFPo0Zj019tMk4wc+qZ"
    },
    "kernelspec": {
      "name": "python3",
      "display_name": "Python 3"
    },
    "language_info": {
      "name": "python"
    }
  },
  "cells": [
    {
      "cell_type": "code",
      "execution_count": null,
      "metadata": {
        "id": "ErGRTYvsZRXz"
      },
      "outputs": [],
      "source": [
        "import requests\n",
        "from bs4 import BeautifulSoup, NavigableString, Tag\n",
        "from datetime import datetime"
      ]
    },
    {
      "cell_type": "code",
      "source": [
        "year = 2024\n",
        "division = 7\n",
        "BASE_URL = \"https://www.mynvsl.com\"\n",
        "DIVISION_URL = BASE_URL + \"/schedules?year=\" + str(year) + \"&div=\" + str(division) + \"&date=\"\n",
        "page = requests.get(DIVISION_URL)\n",
        "\n",
        "soup = BeautifulSoup(page.content, \"html.parser\")\n"
      ],
      "metadata": {
        "id": "BZjG17IGeMOW"
      },
      "execution_count": null,
      "outputs": []
    },
    {
      "cell_type": "code",
      "source": [
        "def get_meet_info(meet_info_table):\n",
        "  for tr in meet_info_table.contents:\n",
        "    if isinstance(tr, NavigableString):\n",
        "          continue\n",
        "    if \"Date\" in tr.th.string:\n",
        "      s = tr.td.string #\"8 March, 2017\"\n",
        "      d = datetime.strptime(s, '%B %d, %Y')\n",
        "      print(d.strftime('%Y-%m-%d'))"
      ],
      "metadata": {
        "id": "veo7x4BLiQX5"
      },
      "execution_count": null,
      "outputs": []
    },
    {
      "cell_type": "code",
      "source": [
        "# prompt: Create a StrokeTimes class that has a name and list of dates and times\n",
        "\n",
        "class StrokeTimes:\n",
        "  def __init__(self, name):\n",
        "    self.name = name\n",
        "    self.times = [] # List of tuples: (date, time)"
      ],
      "metadata": {
        "id": "LyBEYkc0j_8M"
      },
      "execution_count": null,
      "outputs": []
    },
    {
      "cell_type": "code",
      "source": [
        "# prompt: Create a Swimmer class that has a name and a 4 stroketimes: free, back, breast, and fly\n",
        "\n",
        "class Swimmer:\n",
        "  def __init__(self, name):\n",
        "    self.name = name\n",
        "    self.free = []\n",
        "    self.back = []\n",
        "    self.breast = []\n",
        "    self.fly = []"
      ],
      "metadata": {
        "id": "cBAPU6Bgl-9V"
      },
      "execution_count": null,
      "outputs": []
    },
    {
      "cell_type": "code",
      "source": [
        "results = soup.find_all(name=\"a\", string=\"RESULTS\")\n",
        "\n",
        "#print(results[0].attrs['href'])\n",
        "\n",
        "for result in results:\n",
        "\n",
        "  #first_result_URL = results[0].attrs['href']\n",
        "  #results_page = requests.get(BASE_URL + first_result_URL)\n",
        "\n",
        "  meet_result_URL = result.attrs['href']\n",
        "  meet_results_page = requests.get(BASE_URL + meet_result_URL)\n",
        "\n",
        "  soup_results_page = BeautifulSoup(meet_results_page.content, \"html.parser\")\n",
        "  tables = soup_results_page.find_all(name=\"table\")\n",
        "\n",
        "  meet_info_table = tables[0]\n",
        "  get_meet_info(meet_info_table)\n",
        "\n",
        "\n",
        "\n",
        "\n",
        "# look for table tags next\n",
        "# go through each row of table\n",
        "  # first row is header and get text\n",
        "  # Each subsequent row get the time, team, and swimmer name\n"
      ],
      "metadata": {
        "colab": {
          "base_uri": "https://localhost:8080/"
        },
        "id": "SSQpgAQ9eZeU",
        "outputId": "4d74cc74-29e8-4a5d-fb52-4786b8b177ec"
      },
      "execution_count": null,
      "outputs": [
        {
          "output_type": "stream",
          "name": "stdout",
          "text": [
            "2024-06-15\n",
            "2024-06-15\n",
            "2024-06-15\n",
            "2024-06-22\n",
            "2024-06-22\n",
            "2024-06-22\n",
            "2024-06-26\n",
            "2024-06-29\n",
            "2024-06-29\n",
            "2024-06-29\n",
            "2024-07-06\n",
            "2024-07-06\n",
            "2024-07-06\n",
            "2024-07-10\n",
            "2024-07-13\n",
            "2024-07-13\n",
            "2024-07-13\n",
            "2024-07-20\n",
            "2024-07-27\n"
          ]
        }
      ]
    },
    {
      "cell_type": "code",
      "source": [
        "# dictionary for teams\n",
        "  # swimmers\n",
        "    # strokes\n",
        "      # time_list"
      ],
      "metadata": {
        "id": "KxQ_-tvjEYlg"
      },
      "execution_count": null,
      "outputs": []
    },
    {
      "cell_type": "code",
      "source": [],
      "metadata": {
        "id": "h4AbY-6mcTI9"
      },
      "execution_count": null,
      "outputs": []
    }
  ]
}