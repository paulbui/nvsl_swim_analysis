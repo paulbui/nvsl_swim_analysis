{
  "cells": [
    {
      "cell_type": "code",
      "execution_count": 1,
      "metadata": {
        "id": "ErGRTYvsZRXz"
      },
      "outputs": [],
      "source": [
        "import requests\n",
        "from bs4 import BeautifulSoup, NavigableString, Tag\n",
        "from datetime import datetime"
      ]
    },
    {
      "cell_type": "code",
      "execution_count": 2,
      "metadata": {
        "id": "BZjG17IGeMOW"
      },
      "outputs": [],
      "source": [
        "year = 2024\n",
        "division = 7\n",
        "BASE_URL = \"https://www.mynvsl.com\"\n",
        "DIVISION_URL = BASE_URL + \"/schedules?year=\" + str(year) + \"&div=\" + str(division) + \"&date=\"\n",
        "page = requests.get(DIVISION_URL)\n",
        "\n",
        "soup = BeautifulSoup(page.content, \"html.parser\")\n"
      ]
    },
    {
      "cell_type": "code",
      "execution_count": 4,
      "metadata": {
        "id": "LyBEYkc0j_8M"
      },
      "outputs": [],
      "source": [
        "# prompt: Create a StrokeTimes class that has a name and list of dates and times\n",
        "\n",
        "class StrokeTimes:\n",
        "  def __init__(self, name):\n",
        "    self.name = name\n",
        "    self.times = [] # List of tuples: (date, time)"
      ]
    },
    {
      "cell_type": "code",
      "execution_count": 5,
      "metadata": {
        "id": "cBAPU6Bgl-9V"
      },
      "outputs": [],
      "source": [
        "# prompt: Create a Swimmer class that has a name and a 4 stroketimes: free, back, breast, and fly\n",
        "\n",
        "class Swimmer:\n",
        "  def __init__(self, name):\n",
        "    self.name = name\n",
        "    self.free = []\n",
        "    self.back = []\n",
        "    self.breast = []\n",
        "    self.fly = []"
      ]
    },
    {
      "cell_type": "code",
      "execution_count": 75,
      "metadata": {},
      "outputs": [],
      "source": [
        "teams = {}\n",
        "swimmers = {}"
      ]
    },
    {
      "cell_type": "code",
      "execution_count": 81,
      "metadata": {
        "id": "veo7x4BLiQX5"
      },
      "outputs": [],
      "source": [
        "def get_meet_date(meet_info_table):\n",
        "  for tr in meet_info_table.contents:\n",
        "    if isinstance(tr, NavigableString):\n",
        "          continue\n",
        "    if \"Date\" in tr.th.string:\n",
        "      s = tr.td.string #\"8 March, 2017\"\n",
        "      d = datetime.strptime(s, '%B %d, %Y')\n",
        "      #print(d.strftime('%Y-%m-%d'))\n",
        "      #print()\n",
        "    if \"Scores\" in tr.th.string:\n",
        "      tds = tr.td.table.tr.select(\"td\")\n",
        "      team1 = tds[0].string.strip()\n",
        "      team2 = tds[1].string.strip()\n",
        "      if team1 not in teams:\n",
        "        teams[team1] = []\n",
        "      if team2 not in teams:\n",
        "        teams[team2] = []\n",
        "  return (d.strftime('%Y-%m-%d'), team1, team2)"
      ]
    },
    {
      "cell_type": "code",
      "execution_count": null,
      "metadata": {
        "colab": {
          "base_uri": "https://localhost:8080/"
        },
        "id": "SSQpgAQ9eZeU",
        "outputId": "4d74cc74-29e8-4a5d-fb52-4786b8b177ec"
      },
      "outputs": [
        {
          "name": "stdout",
          "output_type": "stream",
          "text": [
            "2024-06-15 Rolling Hills Dominion Hills\n",
            "2024-06-15 Parklawn Sleepy Hollow B & R\n",
            "2024-06-15 Canterbury Woods Waynewood\n",
            "2024-06-22 Dominion Hills Waynewood\n",
            "2024-06-22 Rolling Hills Sleepy Hollow B & R\n",
            "2024-06-22 Parklawn Canterbury Woods\n",
            "2024-06-26 Rolling Hills Sleepy Hollow B & R\n",
            "2024-06-29 Parklawn Rolling Hills\n",
            "2024-06-29 Canterbury Woods Dominion Hills\n",
            "2024-06-29 Waynewood Sleepy Hollow B & R\n",
            "2024-07-06 Sleepy Hollow B & R Canterbury Woods\n",
            "2024-07-06 Parklawn Dominion Hills\n",
            "2024-07-06 Rolling Hills Waynewood\n",
            "2024-07-10 Tuckahoe Chesterbrook\n",
            "2024-07-13 Sleepy Hollow B & R Dominion Hills\n",
            "2024-07-13 Rolling Hills Canterbury Woods\n",
            "2024-07-13 Waynewood Parklawn\n"
          ]
        },
        {
          "ename": "UnboundLocalError",
          "evalue": "cannot access local variable 'team1' where it is not associated with a value",
          "output_type": "error",
          "traceback": [
            "\u001b[31m---------------------------------------------------------------------------\u001b[39m",
            "\u001b[31mUnboundLocalError\u001b[39m                         Traceback (most recent call last)",
            "\u001b[36mCell\u001b[39m\u001b[36m \u001b[39m\u001b[32mIn[82]\u001b[39m\u001b[32m, line 16\u001b[39m\n\u001b[32m     13\u001b[39m tables = soup_results_page.find_all(name=\u001b[33m\"\u001b[39m\u001b[33mtable\u001b[39m\u001b[33m\"\u001b[39m)\n\u001b[32m     15\u001b[39m meet_info_table = tables[\u001b[32m0\u001b[39m]\n\u001b[32m---> \u001b[39m\u001b[32m16\u001b[39m meet_date, team1, team2 = \u001b[43mget_meet_date\u001b[49m\u001b[43m(\u001b[49m\u001b[43mmeet_info_table\u001b[49m\u001b[43m)\u001b[49m\n\u001b[32m     17\u001b[39m \u001b[38;5;28mprint\u001b[39m(meet_date, team1, team2)\n\u001b[32m     19\u001b[39m \u001b[38;5;28;01mfor\u001b[39;00m table \u001b[38;5;129;01min\u001b[39;00m tables:\n",
            "\u001b[36mCell\u001b[39m\u001b[36m \u001b[39m\u001b[32mIn[81]\u001b[39m\u001b[32m, line 18\u001b[39m, in \u001b[36mget_meet_date\u001b[39m\u001b[34m(meet_info_table)\u001b[39m\n\u001b[32m     16\u001b[39m     \u001b[38;5;28;01mif\u001b[39;00m team2 \u001b[38;5;129;01mnot\u001b[39;00m \u001b[38;5;129;01min\u001b[39;00m teams:\n\u001b[32m     17\u001b[39m       teams[team2] = []\n\u001b[32m---> \u001b[39m\u001b[32m18\u001b[39m \u001b[38;5;28;01mreturn\u001b[39;00m (d.strftime(\u001b[33m'\u001b[39m\u001b[33m%\u001b[39m\u001b[33mY-\u001b[39m\u001b[33m%\u001b[39m\u001b[33mm-\u001b[39m\u001b[38;5;132;01m%d\u001b[39;00m\u001b[33m'\u001b[39m), \u001b[43mteam1\u001b[49m, team2)\n",
            "\u001b[31mUnboundLocalError\u001b[39m: cannot access local variable 'team1' where it is not associated with a value"
          ]
        }
      ],
      "source": [
        "results = soup.find_all(name=\"a\", string=\"RESULTS\")\n",
        "\n",
        "#print(results[0].attrs['href'])\n",
        "\n",
        "for result in results:\n",
        "    # first_result_URL = results[0].attrs['href']\n",
        "    # results_page = requests.get(BASE_URL + first_result_URL)\n",
        "\n",
        "    meet_result_URL = result.attrs[\"href\"]\n",
        "    meet_results_page = requests.get(BASE_URL + meet_result_URL)\n",
        "\n",
        "    soup_results_page = BeautifulSoup(meet_results_page.content, \"html.parser\")\n",
        "    tables = soup_results_page.find_all(name=\"table\")\n",
        "\n",
        "    meet_info_table = tables[0]\n",
        "    meet_date, team1, team2 = get_meet_date(meet_info_table)\n",
        "    print(meet_date, team1, \"vs\", team2)\n",
        "\n",
        "    for table in tables:\n",
        "        if (\"Boys\" in table.th.string or \"Girls\" in table.th.string) and \"Relay\" not in table.th.string:\n",
        "            #print(table.th.string)\n",
        "            #print(table.th.string.split())\n",
        "            for tr in table.contents:\n",
        "                if isinstance(tr, NavigableString):\n",
        "                  continue\n",
        "                if tr.has_attr(\"class\"):\n",
        "                  tds = tr.select(\"td\")\n",
        "                  # print(tds[0].string.strip(), tds[1].string.strip(), tds[2].string.strip(), tds[3].string.strip())\n",
        "                  td_time = tds[1].string.strip()\n",
        "                  td_team = tds[2].string.strip()\n",
        "                  td_swimmer = tds[3].string.strip()\n",
        "                  if td_swimmer not in swimmers:\n",
        "                    swimmers[td_swimmer] = Swimmer(td_swimmer)\n",
        "                  if \"Free\" in table.th.string:\n",
        "                    swimmers[td_swimmer].free.append((meet_date, td_time))\n",
        "                  elif \"Back\" in table.th.string:\n",
        "                    swimmers[td_swimmer].back.append((meet_date, td_time))\n",
        "                  elif \"Breast\" in table.th.string:\n",
        "                    swimmers[td_swimmer].breast.append((meet_date, td_time))\n",
        "                  elif \"Fly\" in table.th.string:\n",
        "                    swimmers[td_swimmer].fly.append((meet_date, td_time))\n",
        "\n",
        "# print(\"Teams found:\")\n",
        "# for team in teams:\n",
        "#   print(team)\n",
        "\n",
        "# look for table tags next\n",
        "# go through each row of table\n",
        "  # first row is header and get text\n",
        "  # Each subsequent row get the time, team, and swimmer name\n"
      ]
    },
    {
      "cell_type": "code",
      "execution_count": null,
      "metadata": {
        "id": "KxQ_-tvjEYlg"
      },
      "outputs": [],
      "source": [
        "# dictionary for teams\n",
        "  # swimmers\n",
        "    # strokes\n",
        "      # time_list"
      ]
    },
    {
      "cell_type": "code",
      "execution_count": 74,
      "metadata": {
        "id": "h4AbY-6mcTI9"
      },
      "outputs": [
        {
          "name": "stdout",
          "output_type": "stream",
          "text": [
            "[('2024-06-15', '27.44')]\n"
          ]
        }
      ],
      "source": [
        "print(swimmers[\"Michael Bui\"].back)\n",
        "\n"
      ]
    }
  ],
  "metadata": {
    "colab": {
      "authorship_tag": "ABX9TyMAIkFPo0Zj019tMk4wc+qZ",
      "provenance": []
    },
    "kernelspec": {
      "display_name": "Python 3",
      "name": "python3"
    },
    "language_info": {
      "codemirror_mode": {
        "name": "ipython",
        "version": 3
      },
      "file_extension": ".py",
      "mimetype": "text/x-python",
      "name": "python",
      "nbconvert_exporter": "python",
      "pygments_lexer": "ipython3",
      "version": "3.11.1"
    }
  },
  "nbformat": 4,
  "nbformat_minor": 0
}
